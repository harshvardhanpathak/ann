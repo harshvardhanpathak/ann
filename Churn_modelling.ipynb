{
 "cells": [
  {
   "cell_type": "markdown",
   "metadata": {},
   "source": [
    "# Preprecoessing"
   ]
  },
  {
   "cell_type": "code",
   "execution_count": 23,
   "metadata": {},
   "outputs": [],
   "source": [
    "import numpy as np,pandas as pd\n",
    "from matplotlib import pyplot as plt\n",
    "\n",
    "%matplotlib inline\n"
   ]
  },
  {
   "cell_type": "code",
   "execution_count": 24,
   "metadata": {},
   "outputs": [],
   "source": [
    "data = pd.read_csv('data.csv')"
   ]
  },
  {
   "cell_type": "code",
   "execution_count": 25,
   "metadata": {},
   "outputs": [],
   "source": [
    "X = data.iloc[:,3:-1]\n",
    "y = data.iloc[:,-1]"
   ]
  },
  {
   "cell_type": "code",
   "execution_count": 26,
   "metadata": {},
   "outputs": [
    {
     "data": {
      "text/html": [
       "<div>\n",
       "<style scoped>\n",
       "    .dataframe tbody tr th:only-of-type {\n",
       "        vertical-align: middle;\n",
       "    }\n",
       "\n",
       "    .dataframe tbody tr th {\n",
       "        vertical-align: top;\n",
       "    }\n",
       "\n",
       "    .dataframe thead th {\n",
       "        text-align: right;\n",
       "    }\n",
       "</style>\n",
       "<table border=\"1\" class=\"dataframe\">\n",
       "  <thead>\n",
       "    <tr style=\"text-align: right;\">\n",
       "      <th></th>\n",
       "      <th>CreditScore</th>\n",
       "      <th>Geography</th>\n",
       "      <th>Gender</th>\n",
       "      <th>Age</th>\n",
       "      <th>Tenure</th>\n",
       "      <th>Balance</th>\n",
       "      <th>NumOfProducts</th>\n",
       "      <th>HasCrCard</th>\n",
       "      <th>IsActiveMember</th>\n",
       "      <th>EstimatedSalary</th>\n",
       "    </tr>\n",
       "  </thead>\n",
       "  <tbody>\n",
       "    <tr>\n",
       "      <th>0</th>\n",
       "      <td>619</td>\n",
       "      <td>France</td>\n",
       "      <td>Female</td>\n",
       "      <td>42</td>\n",
       "      <td>2</td>\n",
       "      <td>0.00</td>\n",
       "      <td>1</td>\n",
       "      <td>1</td>\n",
       "      <td>1</td>\n",
       "      <td>101348.88</td>\n",
       "    </tr>\n",
       "    <tr>\n",
       "      <th>1</th>\n",
       "      <td>608</td>\n",
       "      <td>Spain</td>\n",
       "      <td>Female</td>\n",
       "      <td>41</td>\n",
       "      <td>1</td>\n",
       "      <td>83807.86</td>\n",
       "      <td>1</td>\n",
       "      <td>0</td>\n",
       "      <td>1</td>\n",
       "      <td>112542.58</td>\n",
       "    </tr>\n",
       "    <tr>\n",
       "      <th>2</th>\n",
       "      <td>502</td>\n",
       "      <td>France</td>\n",
       "      <td>Female</td>\n",
       "      <td>42</td>\n",
       "      <td>8</td>\n",
       "      <td>159660.80</td>\n",
       "      <td>3</td>\n",
       "      <td>1</td>\n",
       "      <td>0</td>\n",
       "      <td>113931.57</td>\n",
       "    </tr>\n",
       "    <tr>\n",
       "      <th>3</th>\n",
       "      <td>699</td>\n",
       "      <td>France</td>\n",
       "      <td>Female</td>\n",
       "      <td>39</td>\n",
       "      <td>1</td>\n",
       "      <td>0.00</td>\n",
       "      <td>2</td>\n",
       "      <td>0</td>\n",
       "      <td>0</td>\n",
       "      <td>93826.63</td>\n",
       "    </tr>\n",
       "    <tr>\n",
       "      <th>4</th>\n",
       "      <td>850</td>\n",
       "      <td>Spain</td>\n",
       "      <td>Female</td>\n",
       "      <td>43</td>\n",
       "      <td>2</td>\n",
       "      <td>125510.82</td>\n",
       "      <td>1</td>\n",
       "      <td>1</td>\n",
       "      <td>1</td>\n",
       "      <td>79084.10</td>\n",
       "    </tr>\n",
       "  </tbody>\n",
       "</table>\n",
       "</div>"
      ],
      "text/plain": [
       "   CreditScore Geography  Gender  Age  Tenure    Balance  NumOfProducts  \\\n",
       "0          619    France  Female   42       2       0.00              1   \n",
       "1          608     Spain  Female   41       1   83807.86              1   \n",
       "2          502    France  Female   42       8  159660.80              3   \n",
       "3          699    France  Female   39       1       0.00              2   \n",
       "4          850     Spain  Female   43       2  125510.82              1   \n",
       "\n",
       "   HasCrCard  IsActiveMember  EstimatedSalary  \n",
       "0          1               1        101348.88  \n",
       "1          0               1        112542.58  \n",
       "2          1               0        113931.57  \n",
       "3          0               0         93826.63  \n",
       "4          1               1         79084.10  "
      ]
     },
     "execution_count": 26,
     "metadata": {},
     "output_type": "execute_result"
    }
   ],
   "source": [
    "X.head()"
   ]
  },
  {
   "cell_type": "code",
   "execution_count": 33,
   "metadata": {},
   "outputs": [
    {
     "data": {
      "text/html": [
       "<div>\n",
       "<style scoped>\n",
       "    .dataframe tbody tr th:only-of-type {\n",
       "        vertical-align: middle;\n",
       "    }\n",
       "\n",
       "    .dataframe tbody tr th {\n",
       "        vertical-align: top;\n",
       "    }\n",
       "\n",
       "    .dataframe thead th {\n",
       "        text-align: right;\n",
       "    }\n",
       "</style>\n",
       "<table border=\"1\" class=\"dataframe\">\n",
       "  <thead>\n",
       "    <tr style=\"text-align: right;\">\n",
       "      <th></th>\n",
       "      <th>CreditScore</th>\n",
       "      <th>Age</th>\n",
       "      <th>Tenure</th>\n",
       "      <th>Balance</th>\n",
       "      <th>NumOfProducts</th>\n",
       "      <th>HasCrCard</th>\n",
       "      <th>IsActiveMember</th>\n",
       "      <th>EstimatedSalary</th>\n",
       "      <th>Geography_France</th>\n",
       "      <th>Geography_Germany</th>\n",
       "      <th>Gender_Male</th>\n",
       "    </tr>\n",
       "  </thead>\n",
       "  <tbody>\n",
       "    <tr>\n",
       "      <th>0</th>\n",
       "      <td>619</td>\n",
       "      <td>42</td>\n",
       "      <td>2</td>\n",
       "      <td>0.0</td>\n",
       "      <td>1</td>\n",
       "      <td>1</td>\n",
       "      <td>1</td>\n",
       "      <td>101348.88</td>\n",
       "      <td>1</td>\n",
       "      <td>0</td>\n",
       "      <td>0</td>\n",
       "    </tr>\n",
       "  </tbody>\n",
       "</table>\n",
       "</div>"
      ],
      "text/plain": [
       "   CreditScore  Age  Tenure  Balance  NumOfProducts  HasCrCard  \\\n",
       "0          619   42       2      0.0              1          1   \n",
       "\n",
       "   IsActiveMember  EstimatedSalary  Geography_France  Geography_Germany  \\\n",
       "0               1        101348.88                 1                  0   \n",
       "\n",
       "   Gender_Male  \n",
       "0            0  "
      ]
     },
     "execution_count": 33,
     "metadata": {},
     "output_type": "execute_result"
    }
   ],
   "source": [
    "X = pd.get_dummies(X)\n",
    "X= X.drop(['Gender_Female','Geography_Spain'],axis=1)\n",
    "X.head(1)\n"
   ]
  },
  {
   "cell_type": "code",
   "execution_count": 34,
   "metadata": {},
   "outputs": [
    {
     "data": {
      "text/plain": [
       "11"
      ]
     },
     "execution_count": 34,
     "metadata": {},
     "output_type": "execute_result"
    }
   ],
   "source": [
    "# X = X.drop(['Geography_Germany','Gender_Male'],axis=1)\n",
    "# X.head(1)\n",
    "len(X.columns)"
   ]
  },
  {
   "cell_type": "code",
   "execution_count": 35,
   "metadata": {},
   "outputs": [],
   "source": [
    "from sklearn.preprocessing import StandardScaler\n",
    "\n",
    "scaler = StandardScaler()\n",
    "X = scaler.fit_transform(X)"
   ]
  },
  {
   "cell_type": "code",
   "execution_count": 36,
   "metadata": {},
   "outputs": [
    {
     "data": {
      "text/plain": [
       "array([[-0.32622142,  0.29351742, -1.04175968, ...,  0.99720391,\n",
       "        -0.57873591, -1.09598752],\n",
       "       [-0.44003595,  0.19816383, -1.38753759, ..., -1.00280393,\n",
       "        -0.57873591, -1.09598752],\n",
       "       [-1.53679418,  0.29351742,  1.03290776, ...,  0.99720391,\n",
       "        -0.57873591, -1.09598752],\n",
       "       ...,\n",
       "       [ 0.60498839, -0.27860412,  0.68712986, ...,  0.99720391,\n",
       "        -0.57873591, -1.09598752],\n",
       "       [ 1.25683526,  0.29351742, -0.69598177, ..., -1.00280393,\n",
       "         1.72790383,  0.91241915],\n",
       "       [ 1.46377078, -1.04143285, -0.35020386, ...,  0.99720391,\n",
       "        -0.57873591, -1.09598752]])"
      ]
     },
     "execution_count": 36,
     "metadata": {},
     "output_type": "execute_result"
    }
   ],
   "source": [
    "X"
   ]
  },
  {
   "cell_type": "markdown",
   "metadata": {},
   "source": [
    "# Defining ANN (MODEL)"
   ]
  },
  {
   "cell_type": "code",
   "execution_count": 37,
   "metadata": {},
   "outputs": [],
   "source": [
    "import keras \n",
    "from keras.models import Sequential\n",
    "from keras.layers import Dense"
   ]
  },
  {
   "cell_type": "code",
   "execution_count": 42,
   "metadata": {},
   "outputs": [],
   "source": [
    "from sklearn.model_selection import train_test_split\n",
    "X_train, X_test, y_train, y_test = train_test_split(X, y, test_size = 0.2, random_state = 0)"
   ]
  },
  {
   "cell_type": "code",
   "execution_count": 43,
   "metadata": {},
   "outputs": [],
   "source": [
    "model = Sequential()"
   ]
  },
  {
   "cell_type": "code",
   "execution_count": 44,
   "metadata": {},
   "outputs": [
    {
     "name": "stderr",
     "output_type": "stream",
     "text": [
      "C:\\Users\\Harsh\\Anaconda3\\lib\\site-packages\\ipykernel_launcher.py:1: UserWarning: Update your `Dense` call to the Keras 2 API: `Dense(activation=\"relu\", input_dim=11, units=6)`\n",
      "  \"\"\"Entry point for launching an IPython kernel.\n",
      "C:\\Users\\Harsh\\Anaconda3\\lib\\site-packages\\ipykernel_launcher.py:3: UserWarning: Update your `Dense` call to the Keras 2 API: `Dense(activation=\"relu\", units=6)`\n",
      "  This is separate from the ipykernel package so we can avoid doing imports until\n",
      "C:\\Users\\Harsh\\Anaconda3\\lib\\site-packages\\ipykernel_launcher.py:5: UserWarning: Update your `Dense` call to the Keras 2 API: `Dense(activation=\"sigmoid\", units=1)`\n",
      "  \"\"\"\n"
     ]
    }
   ],
   "source": [
    "model.add(Dense(output_dim=6,activation='relu',input_dim=11))\n",
    "\n",
    "model.add(Dense(output_dim=6,activation='relu'))\n",
    "\n",
    "model.add(Dense(output_dim=1,activation=\"sigmoid\"))"
   ]
  },
  {
   "cell_type": "code",
   "execution_count": 45,
   "metadata": {},
   "outputs": [],
   "source": [
    "model.compile(optimizer='adam',loss='binary_crossentropy',metrics=['accuracy'])"
   ]
  },
  {
   "cell_type": "code",
   "execution_count": 46,
   "metadata": {},
   "outputs": [
    {
     "name": "stdout",
     "output_type": "stream",
     "text": [
      "Epoch 1/100\n",
      "8000/8000 [==============================] - 2s 211us/step - loss: 0.4916 - acc: 0.7940\n",
      "Epoch 2/100\n",
      "8000/8000 [==============================] - 1s 135us/step - loss: 0.4321 - acc: 0.8081\n",
      "Epoch 3/100\n",
      "8000/8000 [==============================] - 1s 133us/step - loss: 0.4076 - acc: 0.8285\n",
      "Epoch 4/100\n",
      "8000/8000 [==============================] - 1s 135us/step - loss: 0.3891 - acc: 0.8391\n",
      "Epoch 5/100\n",
      "8000/8000 [==============================] - 1s 134us/step - loss: 0.3714 - acc: 0.8461\n",
      "Epoch 6/100\n",
      "8000/8000 [==============================] - 1s 137us/step - loss: 0.3590 - acc: 0.8527\n",
      "Epoch 7/100\n",
      "8000/8000 [==============================] - 1s 136us/step - loss: 0.3523 - acc: 0.8544\n",
      "Epoch 8/100\n",
      "8000/8000 [==============================] - 1s 135us/step - loss: 0.3487 - acc: 0.8569\n",
      "Epoch 9/100\n",
      "8000/8000 [==============================] - 1s 135us/step - loss: 0.3464 - acc: 0.8574\n",
      "Epoch 10/100\n",
      "8000/8000 [==============================] - 1s 138us/step - loss: 0.3448 - acc: 0.8587\n",
      "Epoch 11/100\n",
      "8000/8000 [==============================] - 1s 139us/step - loss: 0.3438 - acc: 0.8595\n",
      "Epoch 12/100\n",
      "8000/8000 [==============================] - 1s 137us/step - loss: 0.3428 - acc: 0.8592\n",
      "Epoch 13/100\n",
      "8000/8000 [==============================] - 1s 138us/step - loss: 0.3419 - acc: 0.8580\n",
      "Epoch 14/100\n",
      "8000/8000 [==============================] - 1s 137us/step - loss: 0.3407 - acc: 0.8602\n",
      "Epoch 15/100\n",
      "8000/8000 [==============================] - 1s 136us/step - loss: 0.3402 - acc: 0.8614\n",
      "Epoch 16/100\n",
      "8000/8000 [==============================] - 1s 136us/step - loss: 0.3399 - acc: 0.8594\n",
      "Epoch 17/100\n",
      "8000/8000 [==============================] - 1s 134us/step - loss: 0.3398 - acc: 0.8615\n",
      "Epoch 18/100\n",
      "8000/8000 [==============================] - 1s 140us/step - loss: 0.3387 - acc: 0.8599\n",
      "Epoch 19/100\n",
      "8000/8000 [==============================] - 1s 133us/step - loss: 0.3385 - acc: 0.8611\n",
      "Epoch 20/100\n",
      "8000/8000 [==============================] - 1s 137us/step - loss: 0.3381 - acc: 0.8629\n",
      "Epoch 21/100\n",
      "8000/8000 [==============================] - 1s 138us/step - loss: 0.3379 - acc: 0.8614\n",
      "Epoch 22/100\n",
      "8000/8000 [==============================] - 1s 140us/step - loss: 0.3376 - acc: 0.8611\n",
      "Epoch 23/100\n",
      "8000/8000 [==============================] - 1s 136us/step - loss: 0.3369 - acc: 0.8629\n",
      "Epoch 24/100\n",
      "8000/8000 [==============================] - 1s 136us/step - loss: 0.3367 - acc: 0.8622\n",
      "Epoch 25/100\n",
      "8000/8000 [==============================] - 1s 134us/step - loss: 0.3369 - acc: 0.8619\n",
      "Epoch 26/100\n",
      "8000/8000 [==============================] - 1s 137us/step - loss: 0.3363 - acc: 0.8617\n",
      "Epoch 27/100\n",
      "8000/8000 [==============================] - 1s 137us/step - loss: 0.3359 - acc: 0.8615\n",
      "Epoch 28/100\n",
      "8000/8000 [==============================] - 1s 138us/step - loss: 0.3356 - acc: 0.8630\n",
      "Epoch 29/100\n",
      "8000/8000 [==============================] - 1s 140us/step - loss: 0.3355 - acc: 0.8635\n",
      "Epoch 30/100\n",
      "8000/8000 [==============================] - 1s 171us/step - loss: 0.3354 - acc: 0.8620\n",
      "Epoch 31/100\n",
      "8000/8000 [==============================] - 1s 136us/step - loss: 0.3350 - acc: 0.8606\n",
      "Epoch 32/100\n",
      "8000/8000 [==============================] - 1s 139us/step - loss: 0.3348 - acc: 0.8629\n",
      "Epoch 33/100\n",
      "8000/8000 [==============================] - 1s 140us/step - loss: 0.3350 - acc: 0.8627\n",
      "Epoch 34/100\n",
      "8000/8000 [==============================] - 1s 139us/step - loss: 0.3346 - acc: 0.8625\n",
      "Epoch 35/100\n",
      "8000/8000 [==============================] - 1s 139us/step - loss: 0.3346 - acc: 0.8621\n",
      "Epoch 36/100\n",
      "8000/8000 [==============================] - 1s 140us/step - loss: 0.3343 - acc: 0.8627\n",
      "Epoch 37/100\n",
      "8000/8000 [==============================] - 1s 140us/step - loss: 0.3342 - acc: 0.8624\n",
      "Epoch 38/100\n",
      "8000/8000 [==============================] - 1s 140us/step - loss: 0.3336 - acc: 0.8635\n",
      "Epoch 39/100\n",
      "8000/8000 [==============================] - 1s 155us/step - loss: 0.3341 - acc: 0.8617\n",
      "Epoch 40/100\n",
      "8000/8000 [==============================] - 1s 133us/step - loss: 0.3340 - acc: 0.8616\n",
      "Epoch 41/100\n",
      "8000/8000 [==============================] - 1s 133us/step - loss: 0.3338 - acc: 0.8625\n",
      "Epoch 42/100\n",
      "8000/8000 [==============================] - 1s 133us/step - loss: 0.3336 - acc: 0.8609\n",
      "Epoch 43/100\n",
      "8000/8000 [==============================] - 1s 136us/step - loss: 0.3338 - acc: 0.8629\n",
      "Epoch 44/100\n",
      "8000/8000 [==============================] - 1s 138us/step - loss: 0.3331 - acc: 0.8632\n",
      "Epoch 45/100\n",
      "8000/8000 [==============================] - 1s 142us/step - loss: 0.3332 - acc: 0.8635\n",
      "Epoch 46/100\n",
      "8000/8000 [==============================] - 1s 138us/step - loss: 0.3337 - acc: 0.8624\n",
      "Epoch 47/100\n",
      "8000/8000 [==============================] - 1s 138us/step - loss: 0.3331 - acc: 0.8607\n",
      "Epoch 48/100\n",
      "8000/8000 [==============================] - 1s 138us/step - loss: 0.3335 - acc: 0.8614\n",
      "Epoch 49/100\n",
      "8000/8000 [==============================] - 1s 137us/step - loss: 0.3331 - acc: 0.8636\n",
      "Epoch 50/100\n",
      "8000/8000 [==============================] - 1s 139us/step - loss: 0.3327 - acc: 0.8620\n",
      "Epoch 51/100\n",
      "8000/8000 [==============================] - 1s 138us/step - loss: 0.3326 - acc: 0.8639\n",
      "Epoch 52/100\n",
      "8000/8000 [==============================] - 1s 138us/step - loss: 0.3330 - acc: 0.8635\n",
      "Epoch 53/100\n",
      "8000/8000 [==============================] - 1s 139us/step - loss: 0.3323 - acc: 0.8621\n",
      "Epoch 54/100\n",
      "8000/8000 [==============================] - 1s 135us/step - loss: 0.3328 - acc: 0.8607\n",
      "Epoch 55/100\n",
      "8000/8000 [==============================] - 1s 138us/step - loss: 0.3322 - acc: 0.8632\n",
      "Epoch 56/100\n",
      "8000/8000 [==============================] - 1s 155us/step - loss: 0.3324 - acc: 0.8601\n",
      "Epoch 57/100\n",
      "8000/8000 [==============================] - 1s 165us/step - loss: 0.3322 - acc: 0.8617\n",
      "Epoch 58/100\n",
      "8000/8000 [==============================] - 1s 159us/step - loss: 0.3323 - acc: 0.8630\n",
      "Epoch 59/100\n",
      "8000/8000 [==============================] - 2s 192us/step - loss: 0.3322 - acc: 0.8604\n",
      "Epoch 60/100\n",
      "8000/8000 [==============================] - 1s 168us/step - loss: 0.3324 - acc: 0.8621\n",
      "Epoch 61/100\n",
      "8000/8000 [==============================] - 1s 139us/step - loss: 0.3321 - acc: 0.8619\n",
      "Epoch 62/100\n",
      "8000/8000 [==============================] - 1s 140us/step - loss: 0.3319 - acc: 0.8620\n",
      "Epoch 63/100\n",
      "8000/8000 [==============================] - 1s 138us/step - loss: 0.3319 - acc: 0.8630\n",
      "Epoch 64/100\n",
      "8000/8000 [==============================] - 1s 140us/step - loss: 0.3320 - acc: 0.8630 1s - loss:\n",
      "Epoch 65/100\n",
      "8000/8000 [==============================] - 1s 138us/step - loss: 0.3319 - acc: 0.8621\n",
      "Epoch 66/100\n",
      "8000/8000 [==============================] - 1s 140us/step - loss: 0.3319 - acc: 0.8622\n",
      "Epoch 67/100\n",
      "8000/8000 [==============================] - 1s 138us/step - loss: 0.3317 - acc: 0.8609\n",
      "Epoch 68/100\n",
      "8000/8000 [==============================] - 1s 151us/step - loss: 0.3320 - acc: 0.8601\n",
      "Epoch 69/100\n",
      "8000/8000 [==============================] - 1s 137us/step - loss: 0.3317 - acc: 0.8621\n",
      "Epoch 70/100\n",
      "8000/8000 [==============================] - 1s 139us/step - loss: 0.3316 - acc: 0.8622\n",
      "Epoch 71/100\n",
      "8000/8000 [==============================] - 1s 134us/step - loss: 0.3314 - acc: 0.8626\n",
      "Epoch 72/100\n",
      "8000/8000 [==============================] - 1s 136us/step - loss: 0.3312 - acc: 0.8634\n",
      "Epoch 73/100\n",
      "8000/8000 [==============================] - 1s 138us/step - loss: 0.3316 - acc: 0.8614\n",
      "Epoch 74/100\n",
      "8000/8000 [==============================] - 1s 137us/step - loss: 0.3314 - acc: 0.8620\n",
      "Epoch 75/100\n",
      "8000/8000 [==============================] - 1s 138us/step - loss: 0.3311 - acc: 0.8634\n",
      "Epoch 76/100\n",
      "8000/8000 [==============================] - 1s 141us/step - loss: 0.3313 - acc: 0.8630\n",
      "Epoch 77/100\n",
      "8000/8000 [==============================] - 1s 137us/step - loss: 0.3305 - acc: 0.8637\n",
      "Epoch 78/100\n",
      "8000/8000 [==============================] - 1s 157us/step - loss: 0.3308 - acc: 0.8631\n",
      "Epoch 79/100\n",
      "8000/8000 [==============================] - 1s 144us/step - loss: 0.3307 - acc: 0.8621\n",
      "Epoch 80/100\n",
      "8000/8000 [==============================] - 1s 139us/step - loss: 0.3305 - acc: 0.8632\n",
      "Epoch 81/100\n",
      "8000/8000 [==============================] - 1s 137us/step - loss: 0.3302 - acc: 0.8630\n",
      "Epoch 82/100\n"
     ]
    },
    {
     "name": "stdout",
     "output_type": "stream",
     "text": [
      "8000/8000 [==============================] - 1s 133us/step - loss: 0.3299 - acc: 0.8624\n",
      "Epoch 83/100\n",
      "8000/8000 [==============================] - 1s 129us/step - loss: 0.3298 - acc: 0.8635\n",
      "Epoch 84/100\n",
      "8000/8000 [==============================] - 1s 129us/step - loss: 0.3303 - acc: 0.8640\n",
      "Epoch 85/100\n",
      "8000/8000 [==============================] - 1s 132us/step - loss: 0.3301 - acc: 0.8642\n",
      "Epoch 86/100\n",
      "8000/8000 [==============================] - 1s 131us/step - loss: 0.3298 - acc: 0.8644\n",
      "Epoch 87/100\n",
      "8000/8000 [==============================] - 1s 130us/step - loss: 0.3295 - acc: 0.8640\n",
      "Epoch 88/100\n",
      "8000/8000 [==============================] - 1s 130us/step - loss: 0.3296 - acc: 0.8625\n",
      "Epoch 89/100\n",
      "8000/8000 [==============================] - 1s 131us/step - loss: 0.3295 - acc: 0.8629\n",
      "Epoch 90/100\n",
      "8000/8000 [==============================] - 1s 131us/step - loss: 0.3297 - acc: 0.8659\n",
      "Epoch 91/100\n",
      "8000/8000 [==============================] - 1s 130us/step - loss: 0.3294 - acc: 0.8644 0s - loss: 0.\n",
      "Epoch 92/100\n",
      "8000/8000 [==============================] - 1s 132us/step - loss: 0.3293 - acc: 0.8645\n",
      "Epoch 93/100\n",
      "8000/8000 [==============================] - ETA: 0s - loss: 0.3276 - acc: 0.867 - 1s 132us/step - loss: 0.3291 - acc: 0.8656\n",
      "Epoch 94/100\n",
      "8000/8000 [==============================] - 1s 132us/step - loss: 0.3294 - acc: 0.8640\n",
      "Epoch 95/100\n",
      "8000/8000 [==============================] - 1s 132us/step - loss: 0.3291 - acc: 0.8649\n",
      "Epoch 96/100\n",
      "8000/8000 [==============================] - 1s 132us/step - loss: 0.3289 - acc: 0.8647\n",
      "Epoch 97/100\n",
      "8000/8000 [==============================] - 1s 133us/step - loss: 0.3292 - acc: 0.8651\n",
      "Epoch 98/100\n",
      "8000/8000 [==============================] - 1s 130us/step - loss: 0.3286 - acc: 0.8646\n",
      "Epoch 99/100\n",
      "8000/8000 [==============================] - 1s 132us/step - loss: 0.3288 - acc: 0.8640 0s - loss: 0.\n",
      "Epoch 100/100\n",
      "8000/8000 [==============================] - 1s 133us/step - loss: 0.3287 - acc: 0.8644 1s - loss: \n"
     ]
    },
    {
     "data": {
      "text/plain": [
       "<keras.callbacks.History at 0x1cf02bca7b8>"
      ]
     },
     "execution_count": 46,
     "metadata": {},
     "output_type": "execute_result"
    }
   ],
   "source": [
    "model.fit(X_train,y_train,batch_size=10,epochs=100)"
   ]
  },
  {
   "cell_type": "code",
   "execution_count": 48,
   "metadata": {},
   "outputs": [],
   "source": [
    "y_pred=model.predict(X_test)"
   ]
  },
  {
   "cell_type": "code",
   "execution_count": 49,
   "metadata": {},
   "outputs": [],
   "source": [
    "y_pred = (y_pred > 0.5)"
   ]
  },
  {
   "cell_type": "code",
   "execution_count": 50,
   "metadata": {},
   "outputs": [],
   "source": [
    "from sklearn.metrics import confusion_matrix\n",
    "cm = confusion_matrix(y_test, y_pred)"
   ]
  },
  {
   "cell_type": "code",
   "execution_count": 51,
   "metadata": {},
   "outputs": [
    {
     "data": {
      "text/plain": [
       "array([[1528,   67],\n",
       "       [ 211,  194]], dtype=int64)"
      ]
     },
     "execution_count": 51,
     "metadata": {},
     "output_type": "execute_result"
    }
   ],
   "source": [
    "cm\n"
   ]
  },
  {
   "cell_type": "code",
   "execution_count": 52,
   "metadata": {},
   "outputs": [
    {
     "name": "stdout",
     "output_type": "stream",
     "text": [
      "2000/2000 [==============================] - 0s 151us/step\n"
     ]
    },
    {
     "data": {
      "text/plain": [
       "[0.33448391962051394, 0.861]"
      ]
     },
     "execution_count": 52,
     "metadata": {},
     "output_type": "execute_result"
    }
   ],
   "source": [
    "model.evaluate(X_test,y_test)"
   ]
  },
  {
   "cell_type": "code",
   "execution_count": null,
   "metadata": {},
   "outputs": [],
   "source": []
  }
 ],
 "metadata": {
  "kernelspec": {
   "display_name": "Python 3",
   "language": "python",
   "name": "python3"
  },
  "language_info": {
   "codemirror_mode": {
    "name": "ipython",
    "version": 3
   },
   "file_extension": ".py",
   "mimetype": "text/x-python",
   "name": "python",
   "nbconvert_exporter": "python",
   "pygments_lexer": "ipython3",
   "version": "3.6.5"
  }
 },
 "nbformat": 4,
 "nbformat_minor": 2
}
